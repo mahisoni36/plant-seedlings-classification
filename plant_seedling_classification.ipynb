{
  "nbformat": 4,
  "nbformat_minor": 0,
  "metadata": {
    "colab": {
      "name": "plant_seedling_classification.ipynb",
      "version": "0.3.2",
      "provenance": [],
      "collapsed_sections": []
    },
    "kernelspec": {
      "name": "python3",
      "display_name": "Python 3"
    },
    "accelerator": "GPU"
  },
  "cells": [
    {
      "cell_type": "code",
      "metadata": {
        "id": "0-KfOtyQJsU3",
        "colab_type": "code",
        "outputId": "ef420f2b-558c-4406-f91c-50451dfbdb8a",
        "colab": {
          "base_uri": "https://localhost:8080/",
          "height": 36
        }
      },
      "source": [
        "from google.colab import drive\n",
        "drive.mount('/content/gdrive')"
      ],
      "execution_count": 0,
      "outputs": [
        {
          "output_type": "stream",
          "text": [
            "Drive already mounted at /content/gdrive; to attempt to forcibly remount, call drive.mount(\"/content/gdrive\", force_remount=True).\n"
          ],
          "name": "stdout"
        }
      ]
    },
    {
      "cell_type": "code",
      "metadata": {
        "id": "mgEHkrnp6Ejt",
        "colab_type": "code",
        "colab": {}
      },
      "source": [
        "import os\n",
        "os.chdir('/content/gdrive/My Drive/Colab/plant seedling/train')"
      ],
      "execution_count": 0,
      "outputs": []
    },
    {
      "cell_type": "code",
      "metadata": {
        "id": "Iu50fjA3r92X",
        "colab_type": "code",
        "colab": {}
      },
      "source": [
        "%matplotlib inline\n",
        "import os\n",
        "import matplotlib.pyplot as plt\n",
        "import pandas as pd\n",
        "import cv2\n",
        "import numpy as np\n",
        "from glob import glob\n",
        "import seaborn as sns"
      ],
      "execution_count": 0,
      "outputs": []
    },
    {
      "cell_type": "code",
      "metadata": {
        "id": "cP_3UfnIvkvV",
        "colab_type": "code",
        "colab": {}
      },
      "source": [
        "tdf = \"/content/gdrive/My Drive/Colab/plant seedling/train\""
      ],
      "execution_count": 0,
      "outputs": []
    },
    {
      "cell_type": "code",
      "metadata": {
        "id": "XqLBs3lGvlFA",
        "colab_type": "code",
        "colab": {}
      },
      "source": [
        "images = []\n",
        "classes=[]\n",
        "for class_folder_name in os.listdir(tdf):\n",
        "    class_folder_path = os.path.join(tdf,class_folder_name)\n",
        "    class_label = class_folder_name\n",
        "    \n",
        "    for image_path in glob(os.path.join(class_folder_path, \"*.png\")):\n",
        "        image_bgr = cv2.imread(image_path)\n",
        "        resized_img = cv2.resize(image_bgr,(128,128))\n",
        "        if image_bgr is None:\n",
        "            continue\n",
        "        images.append(resized_img)\n",
        "        classes.append(class_label)"
      ],
      "execution_count": 0,
      "outputs": []
    },
    {
      "cell_type": "code",
      "metadata": {
        "id": "BC8BBvnxvlHM",
        "colab_type": "code",
        "outputId": "4fb7774f-2686-458a-843a-3239edccc7e3",
        "colab": {
          "base_uri": "https://localhost:8080/",
          "height": 92
        }
      },
      "source": [
        "np.unique(classes)"
      ],
      "execution_count": 0,
      "outputs": [
        {
          "output_type": "execute_result",
          "data": {
            "text/plain": [
              "array(['Black-grass', 'Charlock', 'Cleavers', 'Common Chickweed',\n",
              "       'Common wheat', 'Fat Hen', 'Loose Silky-bent', 'Maize',\n",
              "       'Scentless Mayweed', 'Shepherds Purse',\n",
              "       'Small-flowered Cranesbill', 'Sugar beet'], dtype='<U25')"
            ]
          },
          "metadata": {
            "tags": []
          },
          "execution_count": 121
        }
      ]
    },
    {
      "cell_type": "code",
      "metadata": {
        "id": "dgKR_QhsvlK4",
        "colab_type": "code",
        "colab": {}
      },
      "source": [
        "from sklearn.preprocessing import LabelBinarizer\n",
        "enc = LabelBinarizer()\n",
        "y = enc.fit_transform(classes)"
      ],
      "execution_count": 0,
      "outputs": []
    },
    {
      "cell_type": "code",
      "metadata": {
        "id": "VjzxpMJGvlND",
        "colab_type": "code",
        "outputId": "1e87d1d3-961d-49a5-9815-cef2e7be746f",
        "colab": {
          "base_uri": "https://localhost:8080/",
          "height": 36
        }
      },
      "source": [
        "y.shape"
      ],
      "execution_count": 0,
      "outputs": [
        {
          "output_type": "execute_result",
          "data": {
            "text/plain": [
              "(4750, 12)"
            ]
          },
          "metadata": {
            "tags": []
          },
          "execution_count": 123
        }
      ]
    },
    {
      "cell_type": "code",
      "metadata": {
        "id": "O5mrdoQFvlRI",
        "colab_type": "code",
        "outputId": "8ee48350-84e8-433d-eb15-c2d0d356dbf2",
        "colab": {
          "base_uri": "https://localhost:8080/",
          "height": 242
        }
      },
      "source": [
        "images = np.array(images)\n",
        "classes = np.array(classes)\n",
        "for label in set(classes):\n",
        "  print(\"number of {} images is  -> {}\".format(label,len(images[classes == label])))"
      ],
      "execution_count": 0,
      "outputs": [
        {
          "output_type": "stream",
          "text": [
            "number of Charlock images is  -> 390\n",
            "number of Cleavers images is  -> 287\n",
            "number of Sugar beet images is  -> 385\n",
            "number of Fat Hen images is  -> 475\n",
            "number of Scentless Mayweed images is  -> 516\n",
            "number of Maize images is  -> 221\n",
            "number of Common Chickweed images is  -> 611\n",
            "number of Shepherds Purse images is  -> 231\n",
            "number of Black-grass images is  -> 263\n",
            "number of Small-flowered Cranesbill images is  -> 496\n",
            "number of Loose Silky-bent images is  -> 654\n",
            "number of Common wheat images is  -> 221\n"
          ],
          "name": "stdout"
        }
      ]
    },
    {
      "cell_type": "code",
      "metadata": {
        "id": "BRHqy1cdvlTO",
        "colab_type": "code",
        "outputId": "8a2da798-7c35-46e1-ca55-cd98376dea75",
        "colab": {
          "base_uri": "https://localhost:8080/",
          "height": 36
        }
      },
      "source": [
        "images.shape,classes.shape"
      ],
      "execution_count": 0,
      "outputs": [
        {
          "output_type": "execute_result",
          "data": {
            "text/plain": [
              "((4750, 128, 128, 3), (4750,))"
            ]
          },
          "metadata": {
            "tags": []
          },
          "execution_count": 125
        }
      ]
    },
    {
      "cell_type": "code",
      "metadata": {
        "id": "jHxsn8A3vlXC",
        "colab_type": "code",
        "outputId": "dca55009-d0da-48c9-ec36-498f786772cb",
        "colab": {
          "base_uri": "https://localhost:8080/",
          "height": 288
        }
      },
      "source": [
        "plt.imshow(images[458])"
      ],
      "execution_count": 0,
      "outputs": [
        {
          "output_type": "execute_result",
          "data": {
            "text/plain": [
              "<matplotlib.image.AxesImage at 0x7fd4e31097b8>"
            ]
          },
          "metadata": {
            "tags": []
          },
          "execution_count": 126
        },
        {
          "output_type": "display_data",
          "data": {
            "image/png": "[encoded data removed]",
            "text/plain": [
              "<Figure size 432x288 with 1 Axes>"
            ]
          },
          "metadata": {
            "tags": []
          }
        }
      ]
    },
    {
      "cell_type": "code",
      "metadata": {
        "id": "zlefw8bVvlZT",
        "colab_type": "code",
        "colab": {}
      },
      "source": [
        "from sklearn.model_selection import train_test_split\n",
        "x_train,x_test,y_train,y_test =train_test_split(images,y,test_size = .2)"
      ],
      "execution_count": 0,
      "outputs": []
    },
    {
      "cell_type": "code",
      "metadata": {
        "id": "NgycgNjCvldA",
        "colab_type": "code",
        "colab": {}
      },
      "source": [
        "x_test,x_val,y_test,y_val =train_test_split(x_test,y_test,test_size = .5)"
      ],
      "execution_count": 0,
      "outputs": []
    },
    {
      "cell_type": "code",
      "metadata": {
        "id": "4_JsHqmQ6sdy",
        "colab_type": "code",
        "outputId": "7e44cba2-1e97-4f03-f884-cfd7e07aca5d",
        "colab": {
          "base_uri": "https://localhost:8080/",
          "height": 36
        }
      },
      "source": [
        "x_val.shape"
      ],
      "execution_count": 0,
      "outputs": [
        {
          "output_type": "execute_result",
          "data": {
            "text/plain": [
              "(475, 128, 128, 3)"
            ]
          },
          "metadata": {
            "tags": []
          },
          "execution_count": 129
        }
      ]
    },
    {
      "cell_type": "code",
      "metadata": {
        "id": "ZKB0PFBBwXAK",
        "colab_type": "code",
        "outputId": "99b09570-a004-45f6-8559-c3de0e332e2c",
        "colab": {
          "base_uri": "https://localhost:8080/",
          "height": 36
        }
      },
      "source": [
        "x_train.shape,y_test.shape"
      ],
      "execution_count": 0,
      "outputs": [
        {
          "output_type": "execute_result",
          "data": {
            "text/plain": [
              "((3800, 128, 128, 3), (475, 12))"
            ]
          },
          "metadata": {
            "tags": []
          },
          "execution_count": 130
        }
      ]
    },
    {
      "cell_type": "code",
      "metadata": {
        "id": "pC8wv5gmwXDG",
        "colab_type": "code",
        "colab": {}
      },
      "source": [
        "x_train =x_train.reshape(3800,128,128,3)\n",
        "x_test = x_test.reshape(475,128,128,3)"
      ],
      "execution_count": 0,
      "outputs": []
    },
    {
      "cell_type": "code",
      "metadata": {
        "id": "8TnWPTsgwXGc",
        "colab_type": "code",
        "colab": {}
      },
      "source": [
        "from tensorflow.keras.layers import Dense,Dropout,Conv2D,Flatten,MaxPooling2D,Activation,GlobalAveragePooling2D\n",
        "from tensorflow.keras.models import Sequential\n",
        "import tensorflow as tf\n",
        "from tensorflow.keras.preprocessing import image"
      ],
      "execution_count": 0,
      "outputs": []
    },
    {
      "cell_type": "code",
      "metadata": {
        "id": "leRazYdzwXJB",
        "colab_type": "code",
        "colab": {}
      },
      "source": [
        "tf.reset_default_graph()"
      ],
      "execution_count": 0,
      "outputs": []
    },
    {
      "cell_type": "code",
      "metadata": {
        "id": "9ogX829pwXOi",
        "colab_type": "code",
        "colab": {}
      },
      "source": [
        "reg_model = Sequential()"
      ],
      "execution_count": 0,
      "outputs": []
    },
    {
      "cell_type": "markdown",
      "metadata": {
        "id": "Tp5j5uCww9ZZ",
        "colab_type": "text"
      },
      "source": [
        "# **CONVOLUTIONAL NEURAL NETWORK** "
      ]
    },
    {
      "cell_type": "code",
      "metadata": {
        "id": "U3NYq3mLwXSZ",
        "colab_type": "code",
        "colab": {}
      },
      "source": [
        "reg_model.add(Conv2D(filters=32,kernel_size=3,padding='same',activation='relu',input_shape =([128,128,3])))"
      ],
      "execution_count": 0,
      "outputs": []
    },
    {
      "cell_type": "code",
      "metadata": {
        "id": "jX8M4CoawXUj",
        "colab_type": "code",
        "colab": {}
      },
      "source": [
        "reg_model.add(Conv2D(filters=32,kernel_size=3,padding='same',activation='relu'))\n",
        "reg_model.add(MaxPooling2D())"
      ],
      "execution_count": 0,
      "outputs": []
    },
    {
      "cell_type": "code",
      "metadata": {
        "id": "jwNfR-dDwXYV",
        "colab_type": "code",
        "colab": {}
      },
      "source": [
        "reg_model.add(Conv2D(64,kernel_size=3,strides=2,padding='same',activation='relu'))\n"
      ],
      "execution_count": 0,
      "outputs": []
    },
    {
      "cell_type": "code",
      "metadata": {
        "id": "4MZtwkrIwXau",
        "colab_type": "code",
        "colab": {}
      },
      "source": [
        "reg_model.add(Conv2D(128,kernel_size=3,strides=2,padding='same',activation='relu'))\n",
        "reg_model.add(Dropout(rate=0.75))"
      ],
      "execution_count": 0,
      "outputs": []
    },
    {
      "cell_type": "code",
      "metadata": {
        "id": "uFKJYJ4EL31H",
        "colab_type": "code",
        "colab": {}
      },
      "source": [
        "reg_model.add(Conv2D(64,kernel_size=3,strides=2,padding='same',activation='relu'))\n"
      ],
      "execution_count": 0,
      "outputs": []
    },
    {
      "cell_type": "code",
      "metadata": {
        "id": "F_Rw1tg9_Brn",
        "colab_type": "code",
        "colab": {}
      },
      "source": [
        "reg_model.add(Conv2D(filters=32,kernel_size=2,strides=1,padding='valid',activation='relu'))\n",
        "reg_model.add(MaxPooling2D())"
      ],
      "execution_count": 0,
      "outputs": []
    },
    {
      "cell_type": "code",
      "metadata": {
        "id": "zW5GKlw7wXg-",
        "colab_type": "code",
        "colab": {}
      },
      "source": [
        "reg_model.add(Flatten())"
      ],
      "execution_count": 0,
      "outputs": []
    },
    {
      "cell_type": "code",
      "metadata": {
        "id": "Z3lxgzE9yuUc",
        "colab_type": "code",
        "colab": {}
      },
      "source": [
        "reg_model.add(Dense(128, activation = \"relu\"))\n",
        "reg_model.add(Dropout(rate=0.5))"
      ],
      "execution_count": 0,
      "outputs": []
    },
    {
      "cell_type": "code",
      "metadata": {
        "id": "2VuD37IryuQf",
        "colab_type": "code",
        "outputId": "254cf165-a415-44a2-dd6b-3349c77ce693",
        "colab": {
          "base_uri": "https://localhost:8080/",
          "height": 654
        }
      },
      "source": [
        "reg_model.add(Dense(12, activation = \"softmax\"))\n",
        "reg_model.summary()"
      ],
      "execution_count": 0,
      "outputs": [
        {
          "output_type": "stream",
          "text": [
            "Model: \"sequential\"\n",
            "_________________________________________________________________\n",
            "Layer (type)                 Output Shape              Param #   \n",
            "=================================================================\n",
            "conv2d (Conv2D)              (None, 128, 128, 32)      896       \n",
            "_________________________________________________________________\n",
            "conv2d_1 (Conv2D)            (None, 128, 128, 32)      9248      \n",
            "_________________________________________________________________\n",
            "max_pooling2d (MaxPooling2D) (None, 64, 64, 32)        0         \n",
            "_________________________________________________________________\n",
            "conv2d_2 (Conv2D)            (None, 32, 32, 64)        18496     \n",
            "_________________________________________________________________\n",
            "conv2d_3 (Conv2D)            (None, 16, 16, 128)       73856     \n",
            "_________________________________________________________________\n",
            "dropout (Dropout)            (None, 16, 16, 128)       0         \n",
            "_________________________________________________________________\n",
            "conv2d_4 (Conv2D)            (None, 8, 8, 64)          73792     \n",
            "_________________________________________________________________\n",
            "conv2d_5 (Conv2D)            (None, 7, 7, 32)          8224      \n",
            "_________________________________________________________________\n",
            "max_pooling2d_1 (MaxPooling2 (None, 3, 3, 32)          0         \n",
            "_________________________________________________________________\n",
            "flatten (Flatten)            (None, 288)               0         \n",
            "_________________________________________________________________\n",
            "dense (Dense)                (None, 128)               36992     \n",
            "_________________________________________________________________\n",
            "dropout_1 (Dropout)          (None, 128)               0         \n",
            "_________________________________________________________________\n",
            "dense_1 (Dense)              (None, 12)                1548      \n",
            "=================================================================\n",
            "Total params: 223,052\n",
            "Trainable params: 223,052\n",
            "Non-trainable params: 0\n",
            "_________________________________________________________________\n"
          ],
          "name": "stdout"
        }
      ]
    },
    {
      "cell_type": "code",
      "metadata": {
        "id": "KunMXvaHyuNm",
        "colab_type": "code",
        "colab": {}
      },
      "source": [
        "reg_model.compile('adam','categorical_crossentropy',metrics=['accuracy'])"
      ],
      "execution_count": 0,
      "outputs": []
    },
    {
      "cell_type": "code",
      "metadata": {
        "id": "BiscEUOiyuJD",
        "colab_type": "code",
        "outputId": "8e0a6005-c21b-40eb-ce49-1b1717286947",
        "colab": {
          "base_uri": "https://localhost:8080/",
          "height": 36
        }
      },
      "source": [
        "type(y_train)"
      ],
      "execution_count": 0,
      "outputs": [
        {
          "output_type": "execute_result",
          "data": {
            "text/plain": [
              "numpy.ndarray"
            ]
          },
          "metadata": {
            "tags": []
          },
          "execution_count": 285
        }
      ]
    },
    {
      "cell_type": "code",
      "metadata": {
        "id": "k9ueiJZCyuHM",
        "colab_type": "code",
        "outputId": "f979d180-cb53-4e69-b3bd-dd94cf3a204e",
        "colab": {
          "base_uri": "https://localhost:8080/",
          "height": 1000
        }
      },
      "source": [
        "reg_model.fit(x_train,\n",
        "           y_train,\n",
        "           epochs=100,\n",
        "           batch_size = 128,\n",
        "           callbacks =None,\n",
        "           validation_data=(x_test,y_test)\n",
        "           )"
      ],
      "execution_count": 0,
      "outputs": [
        {
          "output_type": "stream",
          "text": [
            "Train on 3800 samples, validate on 475 samples\n",
            "Epoch 1/100\n",
            "3800/3800 [==============================] - 6s 2ms/sample - loss: 3.1635 - acc: 0.1161 - val_loss: 2.4636 - val_acc: 0.1411\n",
            "Epoch 2/100\n",
            "3800/3800 [==============================] - 6s 2ms/sample - loss: 2.4328 - acc: 0.1408 - val_loss: 2.4351 - val_acc: 0.1726\n",
            "Epoch 3/100\n",
            "3800/3800 [==============================] - 6s 2ms/sample - loss: 2.4141 - acc: 0.1542 - val_loss: 2.4009 - val_acc: 0.2337\n",
            "Epoch 4/100\n",
            "3800/3800 [==============================] - 6s 2ms/sample - loss: 2.3032 - acc: 0.2247 - val_loss: 2.0760 - val_acc: 0.3453\n",
            "Epoch 5/100\n",
            "3800/3800 [==============================] - 6s 2ms/sample - loss: 2.0977 - acc: 0.2953 - val_loss: 1.8703 - val_acc: 0.3663\n",
            "Epoch 6/100\n",
            "3800/3800 [==============================] - 6s 2ms/sample - loss: 1.9068 - acc: 0.3550 - val_loss: 1.7520 - val_acc: 0.3853\n",
            "Epoch 7/100\n",
            "3800/3800 [==============================] - 6s 2ms/sample - loss: 1.7801 - acc: 0.3882 - val_loss: 1.5936 - val_acc: 0.4589\n",
            "Epoch 8/100\n",
            "3800/3800 [==============================] - 6s 2ms/sample - loss: 1.6392 - acc: 0.4429 - val_loss: 1.4039 - val_acc: 0.4989\n",
            "Epoch 9/100\n",
            "3800/3800 [==============================] - 6s 2ms/sample - loss: 1.4752 - acc: 0.4992 - val_loss: 1.2276 - val_acc: 0.5768\n",
            "Epoch 10/100\n",
            "3800/3800 [==============================] - 6s 2ms/sample - loss: 1.3907 - acc: 0.5182 - val_loss: 1.1814 - val_acc: 0.5937\n",
            "Epoch 11/100\n",
            "3800/3800 [==============================] - 6s 2ms/sample - loss: 1.2920 - acc: 0.5550 - val_loss: 1.0609 - val_acc: 0.6211\n",
            "Epoch 12/100\n",
            "3800/3800 [==============================] - 6s 2ms/sample - loss: 1.2527 - acc: 0.5758 - val_loss: 1.0253 - val_acc: 0.6463\n",
            "Epoch 13/100\n",
            "3800/3800 [==============================] - 6s 2ms/sample - loss: 1.1749 - acc: 0.5997 - val_loss: 0.9691 - val_acc: 0.6884\n",
            "Epoch 14/100\n",
            "3800/3800 [==============================] - 6s 2ms/sample - loss: 1.1181 - acc: 0.6255 - val_loss: 0.8954 - val_acc: 0.6842\n",
            "Epoch 15/100\n",
            "3800/3800 [==============================] - 6s 2ms/sample - loss: 1.0510 - acc: 0.6418 - val_loss: 0.8583 - val_acc: 0.6779\n",
            "Epoch 16/100\n",
            "3800/3800 [==============================] - 6s 2ms/sample - loss: 0.9984 - acc: 0.6674 - val_loss: 0.8519 - val_acc: 0.6926\n",
            "Epoch 17/100\n",
            "3800/3800 [==============================] - 6s 2ms/sample - loss: 0.9781 - acc: 0.6737 - val_loss: 0.8406 - val_acc: 0.7053\n",
            "Epoch 18/100\n",
            "3800/3800 [==============================] - 6s 2ms/sample - loss: 1.0377 - acc: 0.6637 - val_loss: 0.8910 - val_acc: 0.7116\n",
            "Epoch 19/100\n",
            "3800/3800 [==============================] - 6s 2ms/sample - loss: 0.9681 - acc: 0.6816 - val_loss: 0.7579 - val_acc: 0.7432\n",
            "Epoch 20/100\n",
            "3800/3800 [==============================] - 6s 2ms/sample - loss: 0.9068 - acc: 0.7013 - val_loss: 0.7866 - val_acc: 0.7263\n",
            "Epoch 21/100\n",
            "3800/3800 [==============================] - 6s 2ms/sample - loss: 0.8647 - acc: 0.7111 - val_loss: 0.7011 - val_acc: 0.7516\n",
            "Epoch 22/100\n",
            "3800/3800 [==============================] - 6s 2ms/sample - loss: 0.8051 - acc: 0.7387 - val_loss: 0.7227 - val_acc: 0.7600\n",
            "Epoch 23/100\n",
            "3800/3800 [==============================] - 6s 2ms/sample - loss: 0.7904 - acc: 0.7313 - val_loss: 0.7009 - val_acc: 0.7789\n",
            "Epoch 24/100\n",
            "3800/3800 [==============================] - 6s 2ms/sample - loss: 0.7793 - acc: 0.7326 - val_loss: 0.6739 - val_acc: 0.7642\n",
            "Epoch 25/100\n",
            "3800/3800 [==============================] - 6s 2ms/sample - loss: 0.7601 - acc: 0.7474 - val_loss: 0.6778 - val_acc: 0.7726\n",
            "Epoch 26/100\n",
            "3800/3800 [==============================] - 6s 2ms/sample - loss: 0.7137 - acc: 0.7537 - val_loss: 0.6925 - val_acc: 0.7747\n",
            "Epoch 27/100\n",
            "3800/3800 [==============================] - 6s 2ms/sample - loss: 0.6894 - acc: 0.7618 - val_loss: 0.6292 - val_acc: 0.7853\n",
            "Epoch 28/100\n",
            "3800/3800 [==============================] - 6s 2ms/sample - loss: 0.7082 - acc: 0.7513 - val_loss: 0.5968 - val_acc: 0.7916\n",
            "Epoch 29/100\n",
            "3800/3800 [==============================] - 6s 2ms/sample - loss: 0.6887 - acc: 0.7671 - val_loss: 0.6423 - val_acc: 0.8000\n",
            "Epoch 30/100\n",
            "3800/3800 [==============================] - 6s 2ms/sample - loss: 0.6543 - acc: 0.7724 - val_loss: 0.5928 - val_acc: 0.7853\n",
            "Epoch 31/100\n",
            "3800/3800 [==============================] - 6s 2ms/sample - loss: 0.6245 - acc: 0.7832 - val_loss: 0.6133 - val_acc: 0.7958\n",
            "Epoch 32/100\n",
            "3800/3800 [==============================] - 6s 2ms/sample - loss: 0.6041 - acc: 0.7913 - val_loss: 0.5451 - val_acc: 0.8211\n",
            "Epoch 33/100\n",
            "3800/3800 [==============================] - 6s 2ms/sample - loss: 0.5803 - acc: 0.7992 - val_loss: 0.5641 - val_acc: 0.8021\n",
            "Epoch 34/100\n",
            "3800/3800 [==============================] - 6s 2ms/sample - loss: 0.5520 - acc: 0.8063 - val_loss: 0.5784 - val_acc: 0.8147\n",
            "Epoch 35/100\n",
            "3800/3800 [==============================] - 6s 2ms/sample - loss: 0.5984 - acc: 0.7905 - val_loss: 0.5818 - val_acc: 0.8147\n",
            "Epoch 36/100\n",
            "3800/3800 [==============================] - 6s 2ms/sample - loss: 0.5621 - acc: 0.8053 - val_loss: 0.6202 - val_acc: 0.8042\n",
            "Epoch 37/100\n",
            "3800/3800 [==============================] - 6s 2ms/sample - loss: 0.5634 - acc: 0.8000 - val_loss: 0.4980 - val_acc: 0.8421\n",
            "Epoch 38/100\n",
            "3800/3800 [==============================] - 6s 2ms/sample - loss: 0.5202 - acc: 0.8187 - val_loss: 0.5422 - val_acc: 0.8253\n",
            "Epoch 39/100\n",
            "3800/3800 [==============================] - 6s 2ms/sample - loss: 0.5122 - acc: 0.8105 - val_loss: 0.4869 - val_acc: 0.8337\n",
            "Epoch 40/100\n",
            "3800/3800 [==============================] - 6s 2ms/sample - loss: 0.5311 - acc: 0.8150 - val_loss: 0.5450 - val_acc: 0.8126\n",
            "Epoch 41/100\n",
            "3800/3800 [==============================] - 6s 2ms/sample - loss: 0.5210 - acc: 0.8137 - val_loss: 0.4805 - val_acc: 0.8295\n",
            "Epoch 42/100\n",
            "3800/3800 [==============================] - 6s 2ms/sample - loss: 0.5358 - acc: 0.8089 - val_loss: 0.5241 - val_acc: 0.8379\n",
            "Epoch 43/100\n",
            "3800/3800 [==============================] - 6s 2ms/sample - loss: 0.4723 - acc: 0.8287 - val_loss: 0.4968 - val_acc: 0.8316\n",
            "Epoch 44/100\n",
            "3800/3800 [==============================] - 6s 2ms/sample - loss: 0.4657 - acc: 0.8313 - val_loss: 0.5125 - val_acc: 0.8274\n",
            "Epoch 45/100\n",
            "3800/3800 [==============================] - 6s 2ms/sample - loss: 0.4506 - acc: 0.8347 - val_loss: 0.4850 - val_acc: 0.8358\n",
            "Epoch 46/100\n",
            "3800/3800 [==============================] - 6s 2ms/sample - loss: 0.4384 - acc: 0.8366 - val_loss: 0.5698 - val_acc: 0.8189\n",
            "Epoch 47/100\n",
            "3800/3800 [==============================] - 6s 2ms/sample - loss: 0.4860 - acc: 0.8282 - val_loss: 0.4870 - val_acc: 0.8505\n",
            "Epoch 48/100\n",
            "3800/3800 [==============================] - 6s 2ms/sample - loss: 0.5134 - acc: 0.8211 - val_loss: 0.4491 - val_acc: 0.8442\n",
            "Epoch 49/100\n",
            "3800/3800 [==============================] - 6s 2ms/sample - loss: 0.4446 - acc: 0.8379 - val_loss: 0.4694 - val_acc: 0.8421\n",
            "Epoch 50/100\n",
            "3800/3800 [==============================] - 6s 2ms/sample - loss: 0.4493 - acc: 0.8429 - val_loss: 0.5654 - val_acc: 0.8211\n",
            "Epoch 51/100\n",
            "3800/3800 [==============================] - 6s 2ms/sample - loss: 0.4148 - acc: 0.8468 - val_loss: 0.5175 - val_acc: 0.8358\n",
            "Epoch 52/100\n",
            "3800/3800 [==============================] - 6s 2ms/sample - loss: 0.4066 - acc: 0.8547 - val_loss: 0.4568 - val_acc: 0.8484\n",
            "Epoch 53/100\n",
            "3800/3800 [==============================] - 6s 2ms/sample - loss: 0.3867 - acc: 0.8571 - val_loss: 0.5184 - val_acc: 0.8358\n",
            "Epoch 54/100\n",
            "3800/3800 [==============================] - 6s 2ms/sample - loss: 0.3952 - acc: 0.8605 - val_loss: 0.4925 - val_acc: 0.8379\n",
            "Epoch 55/100\n",
            "3800/3800 [==============================] - 6s 2ms/sample - loss: 0.3957 - acc: 0.8563 - val_loss: 0.4611 - val_acc: 0.8505\n",
            "Epoch 56/100\n",
            "3800/3800 [==============================] - 6s 2ms/sample - loss: 0.3958 - acc: 0.8605 - val_loss: 0.4279 - val_acc: 0.8589\n",
            "Epoch 57/100\n",
            "3800/3800 [==============================] - 6s 2ms/sample - loss: 0.4524 - acc: 0.8408 - val_loss: 0.4451 - val_acc: 0.8526\n",
            "Epoch 58/100\n",
            "3800/3800 [==============================] - 6s 2ms/sample - loss: 0.3956 - acc: 0.8571 - val_loss: 0.5014 - val_acc: 0.8442\n",
            "Epoch 59/100\n",
            "3800/3800 [==============================] - 6s 2ms/sample - loss: 0.3565 - acc: 0.8650 - val_loss: 0.5062 - val_acc: 0.8526\n",
            "Epoch 60/100\n",
            "3800/3800 [==============================] - 6s 2ms/sample - loss: 0.3622 - acc: 0.8671 - val_loss: 0.5103 - val_acc: 0.8316\n",
            "Epoch 61/100\n",
            "3800/3800 [==============================] - 6s 2ms/sample - loss: 0.3404 - acc: 0.8761 - val_loss: 0.4551 - val_acc: 0.8547\n",
            "Epoch 62/100\n",
            "3800/3800 [==============================] - 6s 2ms/sample - loss: 0.3524 - acc: 0.8666 - val_loss: 0.4702 - val_acc: 0.8547\n",
            "Epoch 63/100\n",
            "3800/3800 [==============================] - 6s 2ms/sample - loss: 0.3416 - acc: 0.8800 - val_loss: 0.4647 - val_acc: 0.8505\n",
            "Epoch 64/100\n",
            "3800/3800 [==============================] - 6s 2ms/sample - loss: 0.3271 - acc: 0.8821 - val_loss: 0.4913 - val_acc: 0.8337\n",
            "Epoch 65/100\n",
            "3800/3800 [==============================] - 6s 2ms/sample - loss: 0.3420 - acc: 0.8776 - val_loss: 0.4771 - val_acc: 0.8547\n",
            "Epoch 66/100\n",
            "3800/3800 [==============================] - 6s 2ms/sample - loss: 0.3589 - acc: 0.8718 - val_loss: 0.4566 - val_acc: 0.8568\n",
            "Epoch 67/100\n",
            "3800/3800 [==============================] - 6s 2ms/sample - loss: 0.3303 - acc: 0.8792 - val_loss: 0.4806 - val_acc: 0.8589\n",
            "Epoch 68/100\n",
            "3800/3800 [==============================] - 6s 2ms/sample - loss: 0.3257 - acc: 0.8895 - val_loss: 0.4702 - val_acc: 0.8632\n",
            "Epoch 69/100\n",
            "3800/3800 [==============================] - 6s 2ms/sample - loss: 0.3407 - acc: 0.8768 - val_loss: 0.4517 - val_acc: 0.8589\n",
            "Epoch 70/100\n",
            "3800/3800 [==============================] - 6s 2ms/sample - loss: 0.3249 - acc: 0.8834 - val_loss: 0.4550 - val_acc: 0.8716\n",
            "Epoch 71/100\n",
            "3800/3800 [==============================] - 6s 2ms/sample - loss: 0.3162 - acc: 0.8803 - val_loss: 0.4290 - val_acc: 0.8674\n",
            "Epoch 72/100\n",
            "3800/3800 [==============================] - 6s 2ms/sample - loss: 0.2942 - acc: 0.8937 - val_loss: 0.5245 - val_acc: 0.8611\n",
            "Epoch 73/100\n",
            "3800/3800 [==============================] - 6s 2ms/sample - loss: 0.3199 - acc: 0.8829 - val_loss: 0.4943 - val_acc: 0.8484\n",
            "Epoch 74/100\n",
            "3800/3800 [==============================] - 6s 2ms/sample - loss: 0.3075 - acc: 0.8892 - val_loss: 0.4430 - val_acc: 0.8737\n",
            "Epoch 75/100\n",
            "3800/3800 [==============================] - 6s 2ms/sample - loss: 0.2953 - acc: 0.8918 - val_loss: 0.4744 - val_acc: 0.8632\n",
            "Epoch 76/100\n",
            "3800/3800 [==============================] - 6s 2ms/sample - loss: 0.2991 - acc: 0.8939 - val_loss: 0.4737 - val_acc: 0.8611\n",
            "Epoch 77/100\n",
            "3800/3800 [==============================] - 6s 2ms/sample - loss: 0.3251 - acc: 0.8855 - val_loss: 0.5266 - val_acc: 0.8295\n",
            "Epoch 78/100\n",
            "3800/3800 [==============================] - 6s 2ms/sample - loss: 0.3110 - acc: 0.8911 - val_loss: 0.4812 - val_acc: 0.8632\n",
            "Epoch 79/100\n",
            "3800/3800 [==============================] - 6s 2ms/sample - loss: 0.2995 - acc: 0.8955 - val_loss: 0.4784 - val_acc: 0.8653\n",
            "Epoch 80/100\n",
            "3800/3800 [==============================] - 6s 2ms/sample - loss: 0.2735 - acc: 0.9032 - val_loss: 0.4421 - val_acc: 0.8589\n",
            "Epoch 81/100\n",
            "3800/3800 [==============================] - 6s 2ms/sample - loss: 0.2772 - acc: 0.9063 - val_loss: 0.4616 - val_acc: 0.8674\n",
            "Epoch 82/100\n",
            "3800/3800 [==============================] - 6s 2ms/sample - loss: 0.2974 - acc: 0.8942 - val_loss: 0.4788 - val_acc: 0.8695\n",
            "Epoch 83/100\n",
            "3800/3800 [==============================] - 6s 2ms/sample - loss: 0.2638 - acc: 0.9068 - val_loss: 0.5080 - val_acc: 0.8547\n",
            "Epoch 84/100\n",
            "3800/3800 [==============================] - 6s 2ms/sample - loss: 0.2935 - acc: 0.8987 - val_loss: 0.4829 - val_acc: 0.8526\n",
            "Epoch 85/100\n",
            "3800/3800 [==============================] - 6s 2ms/sample - loss: 0.2764 - acc: 0.9037 - val_loss: 0.4477 - val_acc: 0.8589\n",
            "Epoch 86/100\n",
            "3800/3800 [==============================] - 6s 2ms/sample - loss: 0.2442 - acc: 0.9126 - val_loss: 0.5551 - val_acc: 0.8800\n",
            "Epoch 87/100\n",
            "3800/3800 [==============================] - 6s 2ms/sample - loss: 0.2614 - acc: 0.8974 - val_loss: 0.4746 - val_acc: 0.8716\n",
            "Epoch 88/100\n",
            "3800/3800 [==============================] - 6s 2ms/sample - loss: 0.2555 - acc: 0.9097 - val_loss: 0.5515 - val_acc: 0.8463\n",
            "Epoch 89/100\n",
            "3800/3800 [==============================] - 6s 2ms/sample - loss: 0.2669 - acc: 0.9029 - val_loss: 0.5080 - val_acc: 0.8589\n",
            "Epoch 90/100\n",
            "3800/3800 [==============================] - 6s 2ms/sample - loss: 0.2569 - acc: 0.9079 - val_loss: 0.5334 - val_acc: 0.8632\n",
            "Epoch 91/100\n",
            "3800/3800 [==============================] - 6s 2ms/sample - loss: 0.2469 - acc: 0.9100 - val_loss: 0.5438 - val_acc: 0.8589\n",
            "Epoch 92/100\n",
            "3800/3800 [==============================] - 6s 2ms/sample - loss: 0.2405 - acc: 0.9155 - val_loss: 0.5484 - val_acc: 0.8779\n",
            "Epoch 93/100\n",
            "3800/3800 [==============================] - 6s 2ms/sample - loss: 0.2769 - acc: 0.9053 - val_loss: 0.4982 - val_acc: 0.8653\n",
            "Epoch 94/100\n",
            "3800/3800 [==============================] - 6s 2ms/sample - loss: 0.2422 - acc: 0.9097 - val_loss: 0.5545 - val_acc: 0.8589\n",
            "Epoch 95/100\n",
            "3800/3800 [==============================] - 6s 2ms/sample - loss: 0.2457 - acc: 0.9111 - val_loss: 0.5578 - val_acc: 0.8568\n",
            "Epoch 96/100\n",
            "3800/3800 [==============================] - 6s 2ms/sample - loss: 0.2535 - acc: 0.9082 - val_loss: 0.5774 - val_acc: 0.8547\n",
            "Epoch 97/100\n",
            "3800/3800 [==============================] - 6s 2ms/sample - loss: 0.2483 - acc: 0.9103 - val_loss: 0.5911 - val_acc: 0.8568\n",
            "Epoch 98/100\n",
            "3800/3800 [==============================] - 6s 2ms/sample - loss: 0.2036 - acc: 0.9232 - val_loss: 0.6671 - val_acc: 0.8632\n",
            "Epoch 99/100\n",
            "3800/3800 [==============================] - 6s 2ms/sample - loss: 0.2152 - acc: 0.9245 - val_loss: 0.6307 - val_acc: 0.8716\n",
            "Epoch 100/100\n",
            "3800/3800 [==============================] - 6s 2ms/sample - loss: 0.2373 - acc: 0.9126 - val_loss: 0.5852 - val_acc: 0.8589\n"
          ],
          "name": "stdout"
        },
        {
          "output_type": "execute_result",
          "data": {
            "text/plain": [
              "<tensorflow.python.keras.callbacks.History at 0x7fd4d7136518>"
            ]
          },
          "metadata": {
            "tags": []
          },
          "execution_count": 286
        }
      ]
    },
    {
      "cell_type": "code",
      "metadata": {
        "id": "GSxO1jiGyuDT",
        "colab_type": "code",
        "colab": {}
      },
      "source": [
        "pred = reg_model.predict(x_test.reshape(-1,128,128,3))"
      ],
      "execution_count": 0,
      "outputs": []
    },
    {
      "cell_type": "code",
      "metadata": {
        "id": "knKupTebyuBl",
        "colab_type": "code",
        "colab": {}
      },
      "source": [
        "from sklearn.metrics import accuracy_score\n",
        "from tensorflow.keras.utils import to_categorical"
      ],
      "execution_count": 0,
      "outputs": []
    },
    {
      "cell_type": "code",
      "metadata": {
        "id": "tEe9GmSuyt-E",
        "colab_type": "code",
        "colab": {}
      },
      "source": [
        "pred_ix = [list(row).index(np.max(row))for row in pred]"
      ],
      "execution_count": 0,
      "outputs": []
    },
    {
      "cell_type": "code",
      "metadata": {
        "id": "MQe58ax_yt7V",
        "colab_type": "code",
        "outputId": "8d509f53-d6cb-4d93-859e-f08855a7fde1",
        "colab": {
          "base_uri": "https://localhost:8080/",
          "height": 36
        }
      },
      "source": [
        "pred_new = np.array(pred_ix)\n",
        "pred_new = to_categorical(pred_new)\n",
        "pred_new.shape"
      ],
      "execution_count": 0,
      "outputs": [
        {
          "output_type": "execute_result",
          "data": {
            "text/plain": [
              "(475, 12)"
            ]
          },
          "metadata": {
            "tags": []
          },
          "execution_count": 290
        }
      ]
    },
    {
      "cell_type": "code",
      "metadata": {
        "id": "pJGN6qZOyt2n",
        "colab_type": "code",
        "outputId": "61006b50-ec75-4611-8181-66c7f5370902",
        "colab": {
          "base_uri": "https://localhost:8080/",
          "height": 36
        }
      },
      "source": [
        "accuracy_score(pred_new,y_test)"
      ],
      "execution_count": 0,
      "outputs": [
        {
          "output_type": "execute_result",
          "data": {
            "text/plain": [
              "0.8589473684210527"
            ]
          },
          "metadata": {
            "tags": []
          },
          "execution_count": 291
        }
      ]
    },
    {
      "cell_type": "code",
      "metadata": {
        "id": "LpjG6pZhyty4",
        "colab_type": "code",
        "outputId": "c21cf79b-6675-4e14-bcca-89b5b743c7c8",
        "colab": {
          "base_uri": "https://localhost:8080/",
          "height": 527
        }
      },
      "source": [
        "from sklearn.metrics import confusion_matrix\n",
        "import itertools\n",
        "plt.subplots(figsize=(22,7))  \n",
        "\n",
        "def plot_confusion_matrix(cm, classes,\n",
        "                          normalize=False,\n",
        "                          title='Confusion matrix',\n",
        "                          cmap=plt.cm.Blues):\n",
        "    plt.imshow(cm, interpolation='nearest', cmap=cmap)\n",
        "    plt.title(title)\n",
        "    plt.colorbar()\n",
        "    tick_marks = np.arange(len(classes))\n",
        "    plt.xticks(tick_marks, classes, rotation=45)\n",
        "    plt.yticks(tick_marks, classes)\n",
        "    if normalize:\n",
        "        cm = cm.astype('float') / cm.sum(axis=1)[:, np.newaxis]\n",
        "    thresh = cm.max() / 2.\n",
        "    for i, j in itertools.product(range(cm.shape[0]), range(cm.shape[1])):\n",
        "        plt.text(j, i, cm[i, j],\n",
        "                 horizontalalignment=\"center\",\n",
        "                 color=\"white\" if cm[i, j] > thresh else \"black\")\n",
        "    plt.tight_layout()\n",
        "    plt.ylabel('True label')\n",
        "    plt.xlabel('Predicted label')\n",
        "y_pred = reg_model.predict(x_val) \n",
        "y_pred_classes = np.argmax(y_pred,axis = 1) \n",
        "y_true = np.argmax(y_val,axis = 1) \n",
        "confusion_mtx = confusion_matrix(y_true, y_pred_classes) \n",
        "plot_confusion_matrix(confusion_mtx, classes = range(10))"
      ],
      "execution_count": 0,
      "outputs": [
        {
          "output_type": "display_data",
          "data": {
            "image/png": "[encoded data removed]",
            "text/plain": [
              "<Figure size 1584x504 with 2 Axes>"
            ]
          },
          "metadata": {
            "tags": []
          }
        }
      ]
    },
    {
      "cell_type": "code",
      "metadata": {
        "id": "BVWzm9vxDgEp",
        "colab_type": "code",
        "colab": {}
      },
      "source": [
        ""
      ],
      "execution_count": 0,
      "outputs": []
    }
  ]
}